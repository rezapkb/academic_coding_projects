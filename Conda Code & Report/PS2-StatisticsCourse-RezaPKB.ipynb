{
 "cells": [
  {
   "cell_type": "markdown",
   "id": "82ca1787",
   "metadata": {},
   "source": [
    "#  <center> Mathematical & Statistical Course - Part I - Problem Set 2"
   ]
  },
  {
   "cell_type": "markdown",
   "id": "5fba8cce",
   "metadata": {},
   "source": [
    "### <center> Reza Pourkhodabakhshi\n",
    "\n",
    "<center> Project's Supervisor : Prof. Lluis Garrido"
   ]
  },
  {
   "cell_type": "markdown",
   "id": "8c9780c6",
   "metadata": {},
   "source": [
    "# 1. Generation of $N=10000$ events based on $f_0(x)$\n"
   ]
  },
  {
   "cell_type": "markdown",
   "id": "13a92608",
   "metadata": {},
   "source": [
    "The angular distribution of the process $e^+ e^-$ → $μ^+ \\;μ^-$ is given by:"
   ]
  },
  {
   "cell_type": "markdown",
   "id": "162ff916",
   "metadata": {},
   "source": [
    "<center>$f(θ,φ)\\;dΩ =\\displaystyle\\frac{1 \\;+\\; α \\;cosθ \\;+ \\;β \\;cos^2 θ}{2 \\;+ \\frac{2β}{ 3}}dΩ$\n",
    "\n",
    "Generate 10 000 events according to the distribution $f_0(x)= \\frac{3}{4} (1+x^2)$ , $-1≤ x ≤1$\n",
    " \n",
    "- Calculate the p-value of the generated data with respect to $f_0(x)$\n",
    "- Repeat the previous step 1000 times and show the distribution of the p-value\n",
    "\n",
    "Assume that nature follows the $f_0(x)$ distribution and we have a model that predicts $f(x; A) = \\frac{3}{4}(1 + x^2 + Ax)$ where $A$ is a parameter that should be determined experimentally from a set of measurements ${x_i, i = 1, N}$\n",
    "    \n",
    "\n",
    "For generating N events following $f_0(x)$, the $\\textbf{Von Neumann's method}$ has been used."
   ]
  },
  {
   "cell_type": "markdown",
   "id": "0e227b43",
   "metadata": {},
   "source": [
    " "
   ]
  },
  {
   "cell_type": "markdown",
   "id": "1a9e0f32",
   "metadata": {},
   "source": [
    "    \n",
    "        "
   ]
  },
  {
   "cell_type": "markdown",
   "id": "ae435724",
   "metadata": {},
   "source": [
    "- Generating 10 000 events according to the distribution $f_{0}(x)$"
   ]
  },
  {
   "cell_type": "code",
   "execution_count": 1,
   "id": "b1e45207",
   "metadata": {},
   "outputs": [],
   "source": [
    "#imports\n",
    "import numpy as np\n",
    "import scipy as sp\n",
    "import matplotlib.pyplot as plt\n",
    "from scipy import stats\n",
    "from scipy.stats import chisquare\n",
    "import math\n",
    "import pandas as pd"
   ]
  },
  {
   "cell_type": "code",
   "execution_count": 40,
   "id": "62664fc2",
   "metadata": {},
   "outputs": [
    {
     "data": {
      "image/png": "[encoded data removed]",
      "text/plain": [
       "<Figure size 640x480 with 1 Axes>"
      ]
     },
     "metadata": {},
     "output_type": "display_data"
    }
   ],
   "source": [
    "Nbins = 50 #nº of bins\n",
    "\n",
    "#Defining the CDF of the distribution function:\n",
    "def f0_CDF(x):\n",
    "    return (- np.power((-4*x + np.sqrt(4*(2*x-1)**2 + 1) + 2), 2/3) + 1)/np.power((-4*x + np.sqrt(4*(2*x-1)**2 + 1) + 2), 1/3)\n",
    "\n",
    "# Compute 10 000 events according given\n",
    "f_0=[]\n",
    "for i in range(10000):\n",
    "    f_0.append(f0_CDF(np.random.uniform()))\n",
    "\n",
    "#created a histogram with the dataset just computed\n",
    "histogram = plt.hist(f_0, bins=Nbins);"
   ]
  },
  {
   "cell_type": "markdown",
   "id": "d81d1999",
   "metadata": {},
   "source": [
    "    "
   ]
  },
  {
   "cell_type": "markdown",
   "id": "b5811809",
   "metadata": {},
   "source": [
    "    "
   ]
  },
  {
   "cell_type": "markdown",
   "id": "4cee1ae1",
   "metadata": {},
   "source": [
    "    "
   ]
  },
  {
   "cell_type": "markdown",
   "id": "03bdd14a",
   "metadata": {},
   "source": [
    "# 2. Calculation of the p-value of the data w.r.t $f_0(x)$, and its distribution"
   ]
  },
  {
   "cell_type": "markdown",
   "id": "3aae6c89",
   "metadata": {},
   "source": [
    "We now calculate the p-value of the generated set of data with respect to $f_0(x)$ through a $\\chi^2$ distribution.$\\newline$\n",
    "The inputs for the $\\chi^2$ test are both the number of events from our sample that fall into each bin and the expexted number of events that would fall into each bin if the sample data actually followed a $f_0(x)$ distribution.\n",
    "\n",
    "Furthermore, we repeat the generation of the sample ___1000___ times and calculate the p-value for each sample. We plot the distribution of p-values: if the generated data actually follows $f_0(x)$, $\\textbf{the distribution of the p-values will be flat}$ (will be uniformly distributed throughout the bins).$\\newline \\newline$"
   ]
  },
  {
   "cell_type": "markdown",
   "id": "ca73019f",
   "metadata": {},
   "source": [
    "    "
   ]
  },
  {
   "cell_type": "markdown",
   "id": "9ea3a321",
   "metadata": {},
   "source": [
    "- Calculating the p-value for the computed data with respect to $f_{0}(x)$"
   ]
  },
  {
   "cell_type": "code",
   "execution_count": 41,
   "id": "9d83c701",
   "metadata": {},
   "outputs": [
    {
     "data": {
      "text/plain": [
       "0.5116740786425248"
      ]
     },
     "execution_count": 41,
     "metadata": {},
     "output_type": "execute_result"
    }
   ],
   "source": [
    "#histogram[1] = histogram borders distance\n",
    "borders = histogram[1]\n",
    "\n",
    "# As 1 bin equals to the distance between two borders:\n",
    "window = 2 \n",
    "\n",
    "#for each pair you calculate the integral \n",
    "def integral (x1, x2):\n",
    "    return abs((x1**3 + 3*x1)/8 - (x2**3 + 3*x2)/8)\n",
    "\n",
    "hist_pdf = []\n",
    "\n",
    "for i in range(len(borders) - window + 1):\n",
    "    x1, x2 = borders[i: i + window]\n",
    "    hist_pdf.append(integral(x1, x2))  \n",
    "\n",
    "hist_pdf = np.array(hist_pdf)\n",
    "hist_pdf *= (10000/sum(hist_pdf))\n",
    "\n",
    "exp_distrib = hist_pdf\n",
    "obs_distrib = histogram[0]\n",
    "\n",
    "chi2, pvalue = chisquare(obs_distrib, exp_distrib)\n",
    "pvalue"
   ]
  },
  {
   "cell_type": "markdown",
   "id": "52fe0d61",
   "metadata": {},
   "source": [
    "We obtained the P-Value as\n",
    "\n",
    "<center> $$\\text{P-value } \\approx 0.512$$"
   ]
  },
  {
   "cell_type": "markdown",
   "id": "5b6226c6",
   "metadata": {},
   "source": [
    "    "
   ]
  },
  {
   "cell_type": "markdown",
   "id": "51098716",
   "metadata": {},
   "source": [
    "    "
   ]
  },
  {
   "cell_type": "markdown",
   "id": "66942ad5",
   "metadata": {},
   "source": [
    "    "
   ]
  },
  {
   "cell_type": "markdown",
   "id": "443aabf6",
   "metadata": {},
   "source": [
    "- The earlier step will be repeated 1000 times to show the p-value distribution with the objective of showing the p-value distribution. "
   ]
  },
  {
   "cell_type": "code",
   "execution_count": 42,
   "id": "8f9d3aa7",
   "metadata": {},
   "outputs": [
    {
     "data": {
      "image/png": "[encoded data removed]",
      "text/plain": [
       "<Figure size 640x480 with 1 Axes>"
      ]
     },
     "metadata": {},
     "output_type": "display_data"
    }
   ],
   "source": [
    "pvalues = []\n",
    "\n",
    "for i in range(1000):\n",
    "    f_0=[]\n",
    "    for i in range(10000):\n",
    "        f_0.append(f0_CDF(np.random.uniform()))\n",
    "    hist = np.histogram (f_0, bins = Nbins)\n",
    "    \n",
    "    borders = hist[1] \n",
    "    \n",
    "    hist_pdf = []\n",
    "\n",
    "    for i in range(len(borders) - window + 1):\n",
    "        x1, x2 = borders[i: i + window]\n",
    "        hist_pdf.append(integral(x1, x2)) \n",
    "    \n",
    "    hist_pdf = np.array(hist_pdf)\n",
    "    hist_pdf *= (10000/sum(hist_pdf))\n",
    "    obs_distrib = hist[0]\n",
    "    chi2, pvalue = chisquare(obs_distrib, exp_distrib)\n",
    "    \n",
    "    pvalues.append(pvalue)\n",
    "\n",
    "plt.hist(pvalues, bins= Nbins);\n",
    "    "
   ]
  },
  {
   "cell_type": "markdown",
   "id": "a7348628",
   "metadata": {},
   "source": [
    "As it can be observed in the histogram above the p-value distribution is shown to be approximately flat. "
   ]
  },
  {
   "cell_type": "markdown",
   "id": "cbce37ae",
   "metadata": {},
   "source": [
    "Assume that nature follows the $f_0(x)$ distribution and we have a model that predicts\n",
    "\\begin{equation}\n",
    "f(x;A)=\\frac{3}{4}(1+x^2+Ax)\n",
    "\\end{equation}\n",
    "where A is a parameter that should be determined experimentally from a set of measurements $\\{x_i, i = 1,...,N\\}$ .$\\newline \\newline$"
   ]
  },
  {
   "cell_type": "markdown",
   "id": "e1f32592",
   "metadata": {},
   "source": [
    "Indeed, we see a flat distribution for the p-values, which was expected since the data have been generated to follow the distribution $f_0(x)$ itself."
   ]
  },
  {
   "cell_type": "markdown",
   "id": "a351b44e",
   "metadata": {},
   "source": [
    "#     "
   ]
  },
  {
   "cell_type": "markdown",
   "id": "06e8a447",
   "metadata": {},
   "source": [
    "#  "
   ]
  },
  {
   "cell_type": "markdown",
   "id": "e7e03f0a",
   "metadata": {},
   "source": [
    "# 3. Toy model distribution $f(x;A)$\n",
    "\n",
    "We asume nature follows the $f_0(x)=\\frac{3}{8}(1+x^2)$ distribution, and we model it with the following distribution:\n",
    "$$f(x;A)=\\frac{3}{8}(1+x^2+Ax)$$ \n",
    "\n",
    "where A is a parameter that should be determined experimentally from our set data.\n",
    "\n",
    "## 3.1. Finding the MVB for the estimation of A\n",
    "The MVB (Minimum-Variance Biased estimator) when estimating A is defined as a function of the $\\textbf{Fisher information}$, $\\mathbf{I_N}$:\n",
    "\n",
    "$$MVB=\\frac{1}{I_N}\\,\\,\\,;\\,\\,\\,I_N(A)=-E\\left[\\frac{\\partial^2\\log L(\\vec{x}|A)}{\\partial A^2}\\right]$$\n",
    "The likelihood $L(\\vec{x}|A)$ is defined as:\n",
    "$$L(\\vec{x}|A)=\\prod_{i=1}^N f(x_i;A)$$\n",
    "Using the fact that $I_N=N I_x$, we can compute the Fisher information for a single $x_i$ and extrapolate from it the likelihood of the whole set of data. \n",
    "\n",
    "We start with:\n",
    "$$\\log L(x_i|A)=\\log \\frac{3}{8}+\\log(1+x^2+Ax)\\rightarrow$$\n",
    "\n",
    "\n",
    "$$\\rightarrow\\,\\frac{\\partial^2\\log L(x_i|A)}{\\partial A^2}=\\frac{-x^2}{(1+x^2+Ax)^2} \\,;$$\n",
    "\n",
    "\n",
    "$$I_x=-E\\left[\\frac{\\partial^2\\log L(x_i|A)}{\\partial A^2}\\right]=-\\int_{-1}^1 dx\\,\\left(\\frac{-x^2}{(1+x^2+Ax)^2}\\right)\\cdot \\frac{3}{8}(1+x^2+Ax)=$$\n",
    "\n",
    "$$=\\frac{3}{8}\\int_{-1}^1 dx\\,\\frac{x^2}{1+x^2+Ax}\\approx \\frac{3}{8}\\left[\\int_{-1}^1dx\\,\\frac{x^2}{1+x^2}-\\overbrace{\\int_{-1}^1dx\\,\\frac{x^3}{(1+x^2)^2}A}^{\\equiv 0}\\right]+O(A^2)=\\newline=\\frac{3}{8}\\left(2-\\frac{\\pi}{2}\\right)\\approx 0.161$$\n",
    "\n",
    "Finally, we get the expression for our MVB, for which we also calculate the numerical value in for our specifica case of $N=10000$ events;\n",
    "\n",
    "$$MVB=\\frac{1}{I_N}=\\frac{1}{NI_x}\\approx \\frac{6.213}{N}\\approx 6.2\\cdot 10^{-5}$$\n",
    "\n",
    "The square root of this value gives the standard deviation of the parameter $A$:\n",
    "\n",
    "$$\\Delta A=\\sqrt{MVB}\\approx 0.0249$$\n",
    "\n",
    "We will recover this result through the graphical maximum likelihood method for estimating $A$ and $\\Delta A$.\n",
    "\n",
    "## 3.2. Analytical expression to determine Â:  Max. likelihood method\n",
    "\n",
    "We define the following function: \n",
    "$$\\xi(A)=\\frac{1}{N}\\sum_{i=1}^N\\frac{\\partial}{\\partial A}\\log f(x_i|A)=\\frac{1}{N}\\frac{\\partial}{\\partial A}\\log f(\\vec{x}|A)=$$\n",
    "\n",
    "$$=\\frac{1}{N}\\frac{\\partial}{\\partial A}\\log \\left(\\prod_{i=1}^N\\frac{3}{8}(1+x_i^2+Ax_i)\\right)=\\frac{1}{N}\\frac{\\partial}{\\partial A}\\sum_{i=1}^N\\log\\left(\\frac{3}{8}(1+x_i^2+Ax_i)\\right)=$$\n",
    "\n",
    "$$=\\frac{1}{N}\\sum_{i=1}^N\\frac{\\partial}{\\partial A}\\left[\\log\\left(\\frac{3}{8}(1+x_i^2+Ax_i)\\right)\\right]=\\frac{1}{N}\\sum_{i=1}^N \\frac{x_i}{1+x_i^2+Ax_i}$$\n",
    "\n",
    "We now use the maximum likelihood method by maximizing $\\log L(\\vec{x}|A)$ imposing $\\xi(A)=0\\,\\,\\Rightarrow\\,L(\\vec{x}|\\hat{A})\\geq L(\\vec{x}|A)$. $\\newline$\n",
    "We take $\\hat{A}$ small and expand the sum:\n",
    "\n",
    "$$\\xi(A)=\\sum_{i=1}^N \\frac{x_i}{1+x_i^2+Ax_i}\\approx \\sum_{i=1}^N \\left(\\frac{x_i}{1+x_i^2}-\\frac{x_i^2}{(1+x_i^2)^2}A+\\dots\\right)=0\\,\\,\\newline \\Rightarrow\\,\\,\\boxed{\\hat{A}=\\frac{\\sum_{i=1}^N \\frac{x_i}{1+x_i^2}}{\\sum_{i=1}^N \\frac{x_i^2}{(1+x_i^2)^2}}}$$\n",
    "\n",
    "$\\newline \\newline \\newline \\newline \\newline \\newline \\newline \\newline \\newline \\newline \\newline \\newline \\newline \\newline \\newline$\n",
    "\n",
    "$$\\newline \\newline \\newline \\newline \\newline$$\n",
    "\n",
    "$$\\newline \\newline \\newline \\newline \\newline$$\n",
    "\n",
    "$$\\newline \\newline \\newline \\newline \\newline$$\n",
    "\n",
    "$$\\newline \\newline \\newline \\newline \\newline$$"
   ]
  },
  {
   "cell_type": "markdown",
   "id": "07e7a847",
   "metadata": {},
   "source": [
    "#      "
   ]
  },
  {
   "cell_type": "markdown",
   "id": "87c8368b",
   "metadata": {},
   "source": [
    "# "
   ]
  },
  {
   "cell_type": "markdown",
   "id": "269505f0",
   "metadata": {},
   "source": [
    "# 4. Fitting of generated data to $f(x;A)$ as a way of determining $\\hat{A}\\pm\\Delta\\hat{A}$ "
   ]
  },
  {
   "cell_type": "markdown",
   "id": "9a6eabc5",
   "metadata": {},
   "source": [
    "# $\\bullet$ Numerical Method"
   ]
  },
  {
   "cell_type": "markdown",
   "id": "f212a4db",
   "metadata": {},
   "source": [
    "#### · Generate $ N = 10000$ events according to the distribution $f_0(x)$ and fit this data with $f(x;A)$ to determine the value of A and its error $∆A$ (use the numerical/graphical method to the likelihood)."
   ]
  },
  {
   "cell_type": "code",
   "execution_count": 44,
   "id": "35985dd8",
   "metadata": {},
   "outputs": [
    {
     "name": "stdout",
     "output_type": "stream",
     "text": [
      "The value of A is 0.002334889926617678  with an error ∆A of 0.025619510957858433\n"
     ]
    }
   ],
   "source": [
    "#OBJECTIVE: Need to find the A that minimizes the log of the likelihood\n",
    "#generate distribution\n",
    "x = np.array([f0_CDF(np.random.uniform()) for i in range(10000)])\n",
    "                      \n",
    "#Create an array of the generated A's values\n",
    "As = np.linspace(-0.5,0.5, 1500)\n",
    "\n",
    "#Defining the function that the model predicts, the onle that determines the parameter A\n",
    "def f_A(x, A):\n",
    "    return 3/8 * (1 + x**2 + x*A)\n",
    "\n",
    "#for each A we find the log likelihood\n",
    "#x value does not vary on the different A's\n",
    "LogLikely = []\n",
    "for A in As: \n",
    "    Log_Like = np.sum(np.log(f_A(x,A)))\n",
    "    LogLikely.append(Log_Like)\n",
    "#Calculating the max A value by checking each individual A's index\n",
    "max_index_val = LogLikely.index(max(LogLikely))\n",
    "maxA = As[max_index_val]\n",
    "\n",
    "#To find the error create a line at (max - 0.5) and see where it fits the line \n",
    "#however, its not easy to establish where it intercepts\n",
    "\n",
    "##############################################################################################\n",
    "#Define a function that finds the error for A:\n",
    "\n",
    "def A_ErrorCalculator(DistribFunction, LL):\n",
    "#Spliting the function into 2  equal parts, the left side and right side side\n",
    "    upper_sec = DistribFunction[DistribFunction['LL'] >= (max(LL)-0.5)] \n",
    "    lower_sec = DistribFunction[DistribFunction['LL'] < (max(LL)-0.5)] \n",
    "\n",
    "#Only considering the left side of the log likelihood graph (=side with A<Amax)\n",
    "    upper_sec = upper_sec.sort_values(by='LL').head(1)\n",
    "    lower_sec = lower_sec.sort_values(by='LL').tail(1)\n",
    "\n",
    "    x_high = upper_sec.LL.values[0]\n",
    "    x_low = lower_sec.LL.values[0]\n",
    "#Split the left side of the graph in the section above/below (LogLikelihood - 0.5)\n",
    "    point = ((max(LL)-0.5)  - x_high)/(x_high - x_low)\n",
    "#Finding the point that is closest to the LogLikelihood -0.5 (from above and from below):\n",
    "    x_high = upper_sec.A.values[0]\n",
    "    x_low = lower_sec.A.values[0]\n",
    "#Returns the x-position that indicates the difference between the Amax and the error\n",
    "    return point*(x_high - x_low) + x_low\n",
    "\n",
    "##############################################################################################\n",
    "\n",
    "\n",
    "#Calculating the error: \n",
    "DistribFunc = pd.DataFrame({'A': As, 'LL': LogLikely})\n",
    "\n",
    "#creates a table where for each A you also have the likelihood \n",
    "# + split the table by half to calculate the error in the left and in the right side of the Log Likelihood graph\n",
    "error_L = abs(maxA - A_ErrorCalculator(DistribFunc[DistribFunc['A'] < maxA], LogLikely))\n",
    "error_R = abs(maxA - A_ErrorCalculator(DistribFunc[DistribFunc['A'] > maxA], LogLikely)) #select the A for which the log likelyhood is max\n",
    "error_A = (error_L + error_R)/2\n",
    "\n",
    "#find which point is the closest above and below (so get 2)\n",
    "print(\"The value of A is\", maxA, \" with an error ∆A of\", error_A)"
   ]
  },
  {
   "cell_type": "markdown",
   "id": "c1e892e9",
   "metadata": {},
   "source": [
    "Using the numerical method we obtain\n",
    "\\begin{equation}\n",
    "    \\hat{A}=0.00233\\pm 0.02561\n",
    "\\end{equation}"
   ]
  },
  {
   "cell_type": "markdown",
   "id": "d05df22e",
   "metadata": {},
   "source": [
    "# $\\bullet$ Graphical Method\n",
    "\n",
    "We find $A$ that maximizes the likelihood through the expression found before:\n",
    "$\\hat{A}=\\frac{\\sum_{i=1}^N \\frac{x_i}{1+x_i^2}}{\\sum_{i=1}^N \\frac{x_i^2}{(1+x_i^2)^2}}$. $\\newline$\n",
    "\n",
    "We then find $\\Delta \\hat{A}$ through \"graphically\" finding the value of $A$ for which we get $\\log L(max)-\\frac{1}{2}$. This value will be $\\hat{A}\\pm \\sigma_A$.\n",
    "\n",
    "This result comes from (taking $n\\rightarrow \\infty$): $\\log L(\\vec{x}|A)\\rightarrow \\log L(max)-\\frac{1}{2}Q\\,\\,\\,;\\,\\,\\textrm{where}:\\,\\,Q\\equiv \\left(\\frac{\\hat{A}-A_0}{\\sigma_A}\\right)$"
   ]
  },
  {
   "cell_type": "code",
   "execution_count": 46,
   "id": "8e41f81e",
   "metadata": {},
   "outputs": [
    {
     "name": "stdout",
     "output_type": "stream",
     "text": [
      "A_max = 0.00608301933633093\n",
      "sigma+ = 0.025075075075075073\n"
     ]
    },
    {
     "data": {
      "image/png": "[encoded data removed]",
      "text/plain": [
       "<Figure size 500x400 with 1 Axes>"
      ]
     },
     "metadata": {},
     "output_type": "display_data"
    }
   ],
   "source": [
    "import math as m\n",
    "def f(x):\n",
    "    return (3./8)*(1+x**2)  \n",
    "\n",
    "maxf=3./4. \n",
    "N=10000\n",
    "sizeA=0.05\n",
    "N_A=1000\n",
    "#Observed distribution generation\n",
    "values=[]  \n",
    "i=0\n",
    "while i<N:\n",
    "    a=np.random.uniform(0,1)\n",
    "    x=2*a-1 #Generate x in (-1,1)\n",
    "    b=np.random.uniform(0,1) \n",
    "    y=b*maxf #Generate y in (0,max(f))\n",
    "    if y<f(x):\n",
    "        values.append(x)\n",
    "        i=i+1\n",
    "        \n",
    "#A_max generation\n",
    "a=0\n",
    "b=0\n",
    "for k in range (0,N):\n",
    "    b=b+((values[k]/(1+values[k]**2))**2)\n",
    "    a=a+(values[k]/(1+values[k]**2))\n",
    "A_max=a/b\n",
    "print('A_max =',A_max)\n",
    "#Generation of values of logL once A_max has been generated\n",
    "Apoints=np.linspace(A_max-sizeA,A_max+sizeA,N_A)\n",
    "logL_val=[]\n",
    "for j in range (0,N_A):\n",
    "    logL=0\n",
    "    for k in range (0,N):\n",
    "        logL=logL+m.log(3./8)+m.log(1+(values[k])**2+Apoints[j]*values[k])\n",
    "    logL_val.append(logL)\n",
    "\n",
    "#Search for the error Delta(A), graphical method: midL=logL_max-(1/2) --> Amid\n",
    "midL=max(logL_val)-0.5\n",
    "diff_vals=[]\n",
    "for j in range (0,N_A):\n",
    "    testL=0\n",
    "    for k in range (0,N):\n",
    "        testL=testL+m.log(3./8)+m.log(1+(values[k])**2+Apoints[j]*values[k])\n",
    "    diff=abs(testL-midL)\n",
    "    diff_vals.append(diff)   \n",
    "    \n",
    "Amid=Apoints[diff_vals.index(min(diff_vals))]   #A_mid\n",
    "sigma_p=abs(A_max-Amid) #Differences: ACTUAL error Delta(A)\n",
    "print('sigma+ =',sigma_p)\n",
    "\n",
    "#Plotting\n",
    "f = plt.figure()\n",
    "f.set_figwidth(5)\n",
    "f.set_figheight(4)\n",
    "plt.plot(Apoints,logL_val)\n",
    "plt.plot((A_max,A_max), (min(logL_val), max(logL_val)), '--r') #vertical A\n",
    "plt.plot((Apoints[0],A_max), (max(logL_val), max(logL_val)), '--r') #horizontal Lmax\n",
    "plt.plot((Apoints[0],Apoints[N_A-1]), (midL, midL), '--r') #horizontal Lmax/2\n",
    "plt.plot((A_max-sigma_p,A_max-sigma_p), (min(logL_val), midL), '--r') #vertical A-Delta(A)\n",
    "plt.plot((A_max+sigma_p,A_max+sigma_p), (min(logL_val), midL), '--r') #vertical A+Delta(A)\n",
    "plt.xlabel('Â')\n",
    "plt.ylabel('logL(x|Â)')\n",
    "plt.title('Â +- Delta(Â)')\n",
    "plt.grid()"
   ]
  },
  {
   "cell_type": "markdown",
   "id": "64c16282",
   "metadata": {},
   "source": [
    "We see that the estimated $A$ is around the value 0, with some statistical error $\\hat{A}\\sim 0$.\n",
    "\n",
    "We also see that the standard deviation of the estimator for $A$ is $\\sigma_A\\approx 0.02497$, which $\\textbf{coincides}$ with the value calculated before: $\\Delta A=\\sqrt{MVB}\\approx 0.0251$. We can say the estimation has been farely exact."
   ]
  },
  {
   "cell_type": "markdown",
   "id": "74a4f9a1",
   "metadata": {},
   "source": [
    "#   "
   ]
  },
  {
   "cell_type": "markdown",
   "id": "deb10ded",
   "metadata": {},
   "source": [
    "# 5. Distributions for $\\hat{A}$ and $\\Delta\\hat{A}$ after 500 iterations"
   ]
  },
  {
   "cell_type": "markdown",
   "id": "ca35903c",
   "metadata": {},
   "source": [
    "#### · Repeat the previous step 500 times and show the distributions for $\\hat{A}$ and $∆\\hat{A}$. Discuss the results. "
   ]
  },
  {
   "cell_type": "code",
   "execution_count": 47,
   "id": "8e81c25e",
   "metadata": {},
   "outputs": [
    {
     "data": {
      "image/png": "[encoded data removed]",
      "text/plain": [
       "<Figure size 640x480 with 1 Axes>"
      ]
     },
     "metadata": {},
     "output_type": "display_data"
    }
   ],
   "source": [
    "#Create 2 arrays: 1 for the A's and 1 for the A's errors\n",
    "Alist = []\n",
    "Aerror = []\n",
    "\n",
    "As = np.linspace(-0.3,0.3, 1500)\n",
    "\n",
    "\n",
    "#Repeat the above process 500 times:\n",
    "for i in range(500):\n",
    "    x = np.array([f0_CDF(np.random.uniform()) for i in range(10000)])\n",
    "                  \n",
    "    LogLikely = []\n",
    "    for A in As: \n",
    "        Log_Like = np.sum(np.log(f_A(x,A)))\n",
    "        LogLikely.append(Log_Like)\n",
    "                      \n",
    "    max_index_val = LogLikely.index(max(LogLikely))\n",
    "    maxA = As[max_index_val]\n",
    "    \n",
    "    DistribFunc = pd.DataFrame({'A': As, 'LL': LogLikely}) \n",
    "    error_L = abs(maxA - A_ErrorCalculator(DistribFunc[DistribFunc['A'] < maxA], LogLikely))\n",
    "    error_R = abs(maxA - A_ErrorCalculator(DistribFunc[DistribFunc['A'] > maxA], LogLikely)) \n",
    "    error_A = (error_L + error_R)/2                \n",
    "    \n",
    "    Alist.append(maxA)\n",
    "    Aerror.append(error_A)\n",
    "\n",
    "plt.hist(Alist, bins = 50);"
   ]
  },
  {
   "cell_type": "code",
   "execution_count": 48,
   "id": "02e446f9",
   "metadata": {},
   "outputs": [
    {
     "data": {
      "image/png": "[encoded data removed]",
      "text/plain": [
       "<Figure size 640x480 with 1 Axes>"
      ]
     },
     "metadata": {},
     "output_type": "display_data"
    }
   ],
   "source": [
    "plt.hist(Aerror, bins=50);"
   ]
  },
  {
   "cell_type": "markdown",
   "id": "6703eaea",
   "metadata": {},
   "source": [
    "We see both distributions are gaussians centered around their estimated values. These distributions are a graphical representation of the variance of the estimator of $A$; $\\textrm{Var}[\\hat{A}]$ and the variance of the estimator of the variance of $A$; $\\textrm{Var}[\\Delta\\hat{A}]$"
   ]
  },
  {
   "cell_type": "markdown",
   "id": "9640a3a6",
   "metadata": {},
   "source": [
    "#  "
   ]
  },
  {
   "cell_type": "markdown",
   "id": "4fcb7950",
   "metadata": {},
   "source": [
    "# 6. Calculation of p-value for each experiment w.r.t $f(x;A)$. Distribution of p-values\n",
    "\n",
    "For each iteration of the earlier procedure, we can calculate the p-value with respect to the estimated distribution $f(x;A)$ and plot its distribution. If the estimated parameter were in fact $\\hat{A}\\approx 0$, the p-values' distribution would be flat; our model would agree with the null hypothesis that nature follows $f_0(x)\\sim f(x;\\hat{A}\\approx 0)$. \n",
    "\n",
    "We proceed to plot the p-values' distribution:"
   ]
  },
  {
   "cell_type": "markdown",
   "id": "7791c241",
   "metadata": {},
   "source": [
    "#### · For each one of the 500 previous experiments calculate the p-value of the data respect $f(x;A)$. Show the distribution of the p-value. "
   ]
  },
  {
   "cell_type": "code",
   "execution_count": 49,
   "id": "04e1c71b",
   "metadata": {},
   "outputs": [
    {
     "data": {
      "image/png": "[encoded data removed]",
      "text/plain": [
       "<Figure size 640x480 with 1 Axes>"
      ]
     },
     "metadata": {},
     "output_type": "display_data"
    }
   ],
   "source": [
    "\n",
    "A_PvalueList = []\n",
    "\n",
    "As = np.linspace(-0.5, 0.5, num=1500)\n",
    "\n",
    "for i in range(500):\n",
    "    x = np.array([f0_CDF(np.random.uniform()) for i in range(10000)])\n",
    "    \n",
    "    Log_Like_Max = -np.inf\n",
    "    maxA = None\n",
    "    \n",
    "    LogLikely = []\n",
    "    \n",
    "    for A in As: \n",
    "        Log_Like = np.sum(np.log(f_A(x,A)))\n",
    "        LogLikely.append(Log_Like)\n",
    "\n",
    "    max_index_val = LogLikely.index(max(LogLikely))\n",
    "    maxA = As[max_index_val]\n",
    "    \n",
    "    def Func(x, A):\n",
    "        return -((54*A**3 + np.sqrt((54*A**3 - 648*A - 1728*x + 864)**2 + 4*(36 - 9*A**2)**3) - 648*A - 1728*x + 864)**(1/3))/(6*2**(1/3)) + (36 - 9*A**2)/(3*2**(2/3)*(54*A**3 + np.sqrt((54*A**3 - 648*A - 1728*x + 864)**2 + 4*(36 - 9*A**2)**3) - 648*A - 1728*x + 864)**(1/3)) - A/2\n",
    "    \n",
    "    Dist = [Func(np.random.uniform(), maxA) for i in range(10000)]\n",
    "    hist = np.histogram(Dist, bins=Nbins);\n",
    "\n",
    "    borders = hist[1]\n",
    "    hist_pdf = []\n",
    "    \n",
    "    def f_integral(x1, x2, A):\n",
    "        return abs((2*x1**3 + 3*A*x1**2 + 6*x1 - 3*A + 8)/16 - (2*x2**3 + 3*A*x2**2 + 6*x2 - 3*A + 8)/16)\n",
    "    \n",
    "    for i in range(len(borders) - 1):\n",
    "        x1, x2 = borders[i: i + 2]\n",
    "        hist_pdf.append(f_integral(x1, x2, maxA)) \n",
    "    \n",
    "    hist_pdf = np.array(hist_pdf)\n",
    "    hist_pdf *= (10000/sum(hist_pdf))\n",
    "    \n",
    "    exp_distrib = hist_pdf\n",
    "    obs_distrib = hist[0]\n",
    "    \n",
    "    chi2, pvalue = chisquare(obs_distrib, exp_distrib)\n",
    "    \n",
    "    A_PvalueList.append(pvalue)\n",
    "\n",
    "plt.hist(A_PvalueList, bins=50);"
   ]
  },
  {
   "cell_type": "code",
   "execution_count": null,
   "id": "7e62cc21",
   "metadata": {},
   "outputs": [],
   "source": []
  }
 ],
 "metadata": {
  "kernelspec": {
   "display_name": "Python 3 (ipykernel)",
   "language": "python",
   "name": "python3"
  },
  "language_info": {
   "codemirror_mode": {
    "name": "ipython",
    "version": 3
   },
   "file_extension": ".py",
   "mimetype": "text/x-python",
   "name": "python",
   "nbconvert_exporter": "python",
   "pygments_lexer": "ipython3",
   "version": "3.9.13"
  }
 },
 "nbformat": 4,
 "nbformat_minor": 5
}
